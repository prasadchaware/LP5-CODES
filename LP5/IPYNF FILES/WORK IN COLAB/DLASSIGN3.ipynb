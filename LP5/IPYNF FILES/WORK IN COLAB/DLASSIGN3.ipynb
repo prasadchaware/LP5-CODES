{
  "nbformat": 4,
  "nbformat_minor": 0,
  "metadata": {
    "colab": {
      "provenance": []
    },
    "kernelspec": {
      "name": "python3",
      "display_name": "Python 3"
    },
    "language_info": {
      "name": "python"
    }
  },
  "cells": [
    {
      "cell_type": "code",
      "execution_count": null,
      "metadata": {
        "id": "XUaRU5H3z1b3"
      },
      "outputs": [],
      "source": [
        "import numpy as np\n",
        "import matplotlib.pyplot as plt\n",
        "from tensorflow import keras\n",
        "from sklearn.model_selection import train_test_split\n"
      ]
    },
    {
      "cell_type": "code",
      "source": [
        "# Load the data from GitHub repository\n",
        "train_url = \"https://github.com/zalandoresearch/fashion-mnist/raw/master/data/fashion/train-images-idx3-ubyte.gz\"\n",
        "train_labels_url = \"https://github.com/zalandoresearch/fashion-mnist/raw/master/data/fashion/train-labels-idx1-ubyte.gz\"\n",
        "test_url = \"https://github.com/zalandoresearch/fashion-mnist/raw/master/data/fashion/t10k-images-idx3-ubyte.gz\"\n",
        "test_labels_url = \"https://github.com/zalandoresearch/fashion-mnist/raw/master/data/fashion/t10k-labels-idx1-ubyte.gz\"\n",
        "\n",
        "(x_train, y_train), (x_test, y_test) = keras.datasets.fashion_mnist.load_data()\n",
        "\n",
        "# Normalize pixel values to be between 0 and 1\n",
        "x_train = x_train / 255.0\n",
        "x_test = x_test / 255.0\n"
      ],
      "metadata": {
        "colab": {
          "base_uri": "https://localhost:8080/"
        },
        "id": "mbM3RoH_z5qU",
        "outputId": "9929461a-4700-4bf5-bb2f-80bb8b0e6a8e"
      },
      "execution_count": null,
      "outputs": [
        {
          "output_type": "stream",
          "name": "stdout",
          "text": [
            "Downloading data from https://storage.googleapis.com/tensorflow/tf-keras-datasets/train-labels-idx1-ubyte.gz\n",
            "29515/29515 [==============================] - 0s 0us/step\n",
            "Downloading data from https://storage.googleapis.com/tensorflow/tf-keras-datasets/train-images-idx3-ubyte.gz\n",
            "26421880/26421880 [==============================] - 0s 0us/step\n",
            "Downloading data from https://storage.googleapis.com/tensorflow/tf-keras-datasets/t10k-labels-idx1-ubyte.gz\n",
            "5148/5148 [==============================] - 0s 0us/step\n",
            "Downloading data from https://storage.googleapis.com/tensorflow/tf-keras-datasets/t10k-images-idx3-ubyte.gz\n",
            "4422102/4422102 [==============================] - 0s 0us/step\n"
          ]
        }
      ]
    },
    {
      "cell_type": "code",
      "source": [
        "# Reshape the data to 4D (batch_size, width, height, channels)\n",
        "x_train = x_train.reshape(-1, 28, 28, 1)\n",
        "x_test = x_test.reshape(-1, 28, 28, 1)\n",
        "\n",
        "# Convert labels to one-hot encoding\n",
        "y_train = keras.utils.to_categorical(y_train, 10)\n",
        "y_test = keras.utils.to_categorical(y_test, 10)\n"
      ],
      "metadata": {
        "id": "54XNQKTuz9oN"
      },
      "execution_count": null,
      "outputs": []
    },
    {
      "cell_type": "code",
      "source": [
        "model = keras.Sequential([\n",
        "    keras.layers.Conv2D(32, (3, 3), padding='same', activation='relu', input_shape=(28, 28, 1)),\n",
        "    keras.layers.MaxPooling2D((2, 2)),\n",
        "    keras.layers.Conv2D(64, (3, 3), padding='same', activation='relu'),\n",
        "    keras.layers.MaxPooling2D((2, 2)),\n",
        "    keras.layers.Flatten(),\n",
        "    keras.layers.Dense(128, activation='relu'),\n",
        "    keras.layers.Dense(10, activation='softmax')\n",
        "])\n",
        "\n",
        "model.compile(optimizer='adam',\n",
        "              loss='categorical_crossentropy',\n",
        "              metrics=['accuracy'])\n",
        "\n",
        "history = model.fit(x_train, y_train, epochs=10, batch_size=64, validation_split=0.2)\n"
      ],
      "metadata": {
        "colab": {
          "base_uri": "https://localhost:8080/"
        },
        "id": "KeDSnDqs0As-",
        "outputId": "4f411940-c314-420a-9fc7-7bcd0028e1b5"
      },
      "execution_count": null,
      "outputs": [
        {
          "output_type": "stream",
          "name": "stdout",
          "text": [
            "Epoch 1/10\n",
            "750/750 [==============================] - 62s 81ms/step - loss: 0.4556 - accuracy: 0.8357 - val_loss: 0.3404 - val_accuracy: 0.8749\n",
            "Epoch 2/10\n",
            "750/750 [==============================] - 66s 88ms/step - loss: 0.2991 - accuracy: 0.8902 - val_loss: 0.2742 - val_accuracy: 0.9011\n",
            "Epoch 3/10\n",
            "750/750 [==============================] - 60s 80ms/step - loss: 0.2523 - accuracy: 0.9083 - val_loss: 0.2801 - val_accuracy: 0.8997\n",
            "Epoch 4/10\n",
            "750/750 [==============================] - 59s 78ms/step - loss: 0.2204 - accuracy: 0.9194 - val_loss: 0.2486 - val_accuracy: 0.9090\n",
            "Epoch 5/10\n",
            "750/750 [==============================] - 54s 72ms/step - loss: 0.1967 - accuracy: 0.9284 - val_loss: 0.2344 - val_accuracy: 0.9147\n",
            "Epoch 6/10\n",
            "750/750 [==============================] - 57s 75ms/step - loss: 0.1755 - accuracy: 0.9349 - val_loss: 0.2435 - val_accuracy: 0.9133\n",
            "Epoch 7/10\n",
            "750/750 [==============================] - 58s 78ms/step - loss: 0.1537 - accuracy: 0.9429 - val_loss: 0.2251 - val_accuracy: 0.9199\n",
            "Epoch 8/10\n",
            "750/750 [==============================] - 57s 76ms/step - loss: 0.1365 - accuracy: 0.9497 - val_loss: 0.2299 - val_accuracy: 0.9194\n",
            "Epoch 9/10\n",
            "750/750 [==============================] - 56s 74ms/step - loss: 0.1159 - accuracy: 0.9568 - val_loss: 0.2503 - val_accuracy: 0.9172\n",
            "Epoch 10/10\n",
            "750/750 [==============================] - 57s 77ms/step - loss: 0.1007 - accuracy: 0.9628 - val_loss: 0.2551 - val_accuracy: 0.9170\n"
          ]
        }
      ]
    },
    {
      "cell_type": "code",
      "source": [
        "test_loss, test_acc = model.evaluate(x_test, y_test)\n",
        "print('Test accuracy:', test_acc)\n"
      ],
      "metadata": {
        "colab": {
          "base_uri": "https://localhost:8080/"
        },
        "id": "c_Hz04Nd0BoN",
        "outputId": "df32ff9a-805c-4f20-ae52-fd9cc3958ca4"
      },
      "execution_count": null,
      "outputs": [
        {
          "output_type": "stream",
          "name": "stdout",
          "text": [
            "313/313 [==============================] - 4s 12ms/step - loss: 0.2741 - accuracy: 0.9125\n",
            "Test accuracy: 0.9125000238418579\n"
          ]
        }
      ]
    },
    {
      "cell_type": "code",
      "source": [
        "predictions = model.predict(x_test)\n"
      ],
      "metadata": {
        "colab": {
          "base_uri": "https://localhost:8080/"
        },
        "id": "r8g2lYqF0Fv7",
        "outputId": "984ba94a-9bb9-4b4b-bcee-2d40257ab66f"
      },
      "execution_count": null,
      "outputs": [
        {
          "output_type": "stream",
          "name": "stdout",
          "text": [
            "313/313 [==============================] - 4s 13ms/step\n"
          ]
        }
      ]
    },
    {
      "cell_type": "code",
      "source": [
        "# Choose a random test sample\n",
        "sample_index = np.random.randint(3, len(x_test))\n",
        "sample_image = x_test[sample_index]\n",
        "true_label = np.argmax(y_test[sample_index])\n",
        "\n",
        "# Make prediction\n",
        "prediction = model.predict(np.expand_dims(sample_image, axis=0))\n",
        "predicted_label = np.argmax(prediction)\n",
        "\n",
        "# Display the sample image and prediction\n",
        "plt.imshow(sample_image.squeeze(), cmap='gray')\n",
        "plt.title(f\"True label: {true_label}, Predicted label: {predicted_label}\")\n",
        "plt.axis('off')\n",
        "plt.show()\n"
      ],
      "metadata": {
        "colab": {
          "base_uri": "https://localhost:8080/",
          "height": 445
        },
        "id": "4BEMdcm60cCs",
        "outputId": "bdee0b47-521a-44bf-c7c0-067b8c54c033"
      },
      "execution_count": null,
      "outputs": [
        {
          "output_type": "stream",
          "name": "stdout",
          "text": [
            "1/1 [==============================] - 0s 39ms/step\n"
          ]
        },
        {
          "output_type": "display_data",
          "data": {
            "text/plain": [
              "<Figure size 640x480 with 1 Axes>"
            ],
            "image/png": "[encoded data removed]"
          },
          "metadata": {}
        }
      ]
    },
    {
      "cell_type": "code",
      "source": [
        "# Mapping of label indices to human-readable labels\n",
        "label_names = {\n",
        "    0: \"T-shirt/top\",\n",
        "    1: \"Trouser\",\n",
        "    2: \"Pullover\",\n",
        "    3: \"Dress\",\n",
        "    4: \"Coat\",\n",
        "    5: \"Sandal\",\n",
        "    6: \"Shirt\",\n",
        "    7: \"Sneaker\",\n",
        "    8: \"Bag\",\n",
        "    9: \"Ankle boot\"\n",
        "}\n",
        "\n",
        "# Create a figure with 10 subplots\n",
        "plt.figure(figsize=(10, 5))\n",
        "for i in range(10):\n",
        "    # Find the first image with the current label\n",
        "    index = np.where(y_test[:, i] == 1)[0][0]\n",
        "    image = x_test[index].squeeze()\n",
        "\n",
        "    # Plot the image\n",
        "    plt.subplot(2, 5, i+1)\n",
        "    plt.imshow(image, cmap='gray')\n",
        "    plt.title(label_names[i])\n",
        "    plt.axis('off')\n",
        "\n",
        "plt.tight_layout()\n",
        "plt.show()\n"
      ],
      "metadata": {
        "colab": {
          "base_uri": "https://localhost:8080/",
          "height": 473
        },
        "id": "TDqiMdPx2fCF",
        "outputId": "cf2e1365-6311-4e26-9b6c-c00ae7e628c7"
      },
      "execution_count": null,
      "outputs": [
        {
          "output_type": "display_data",
          "data": {
            "text/plain": [
              "<Figure size 1000x500 with 10 Axes>"
            ],
            "image/png": "[encoded data removed]"
          },
          "metadata": {}
        }
      ]
    },
    {
      "cell_type": "code",
      "source": [],
      "metadata": {
        "id": "YoqDrrng3CtF"
      },
      "execution_count": null,
      "outputs": []
    }
  ]
}