{
  "nbformat": 4,
  "nbformat_minor": 0,
  "metadata": {
    "colab": {
      "provenance": []
    },
    "kernelspec": {
      "name": "python3",
      "display_name": "Python 3"
    },
    "language_info": {
      "name": "python"
    }
  },
  "cells": [
    {
      "cell_type": "code",
      "execution_count": null,
      "metadata": {
        "id": "OjZ2JYdlwHaP"
      },
      "outputs": [],
      "source": [
        "import tensorflow as tf\n",
        "import numpy as np\n",
        "import pandas as pd\n",
        "import matplotlib.pyplot as plt\n",
        "%matplotlib inline\n",
        "\n",
        "from sklearn.model_selection import train_test_split\n",
        "from sklearn.compose import make_column_transformer\n",
        "from sklearn.preprocessing import MinMaxScaler\n"
      ]
    },
    {
      "cell_type": "code",
      "source": [
        "import tensorflow as tf\n",
        "from tensorflow.keras.datasets import boston_housing\n",
        "from sklearn.model_selection import train_test_split\n",
        "from sklearn.preprocessing import StandardScaler"
      ],
      "metadata": {
        "id": "lA-4lYhUwP6N"
      },
      "execution_count": null,
      "outputs": []
    },
    {
      "cell_type": "code",
      "source": [
        "boston_data = pd.read_csv(\"https://raw.githubusercontent.com/selva86/datasets/master/BostonHousing.csv\")"
      ],
      "metadata": {
        "id": "D_y_KOStx6hN"
      },
      "execution_count": null,
      "outputs": []
    },
    {
      "cell_type": "code",
      "source": [
        "\n",
        "X = boston_data.drop('medv', axis=1) # Features\n",
        "y = boston_data['medv'] # Target variable"
      ],
      "metadata": {
        "id": "Z1YhX8hOyAKy"
      },
      "execution_count": null,
      "outputs": []
    },
    {
      "cell_type": "code",
      "source": [
        "\n",
        "scaler = StandardScaler()\n",
        "X_scaled = scaler.fit_transform(X)"
      ],
      "metadata": {
        "id": "uAQoQ0ZXyCj_"
      },
      "execution_count": null,
      "outputs": []
    },
    {
      "cell_type": "code",
      "source": [
        "\n",
        "X_train, X_test, y_train, y_test = train_test_split(X_scaled, y, test_size=0.2, random_state=42)\n"
      ],
      "metadata": {
        "id": "8OYKALkUyEO6"
      },
      "execution_count": null,
      "outputs": []
    },
    {
      "cell_type": "code",
      "source": [
        "model = tf.keras.Sequential([\n",
        "    tf.keras.layers.Dense(64, activation='relu', input_shape=(X_train.shape[1],)),\n",
        "    tf.keras.layers.Dense(32, activation='relu'),\n",
        "    tf.keras.layers.Dense(1)\n",
        "])"
      ],
      "metadata": {
        "id": "AiTsIFIWyGa3"
      },
      "execution_count": null,
      "outputs": []
    },
    {
      "cell_type": "code",
      "source": [
        "# Compile the model\n",
        "model.compile(optimizer='adam', loss='mean_squared_error')"
      ],
      "metadata": {
        "id": "6Tqy3kHGyH7d"
      },
      "execution_count": null,
      "outputs": []
    },
    {
      "cell_type": "code",
      "source": [
        "# Step 6: Train the model\n",
        "history = model.fit(X_train, y_train, epochs=100, batch_size=32, validation_split=0.2)\n"
      ],
      "metadata": {
        "colab": {
          "base_uri": "https://localhost:8080/"
        },
        "id": "TsetVLclyJgg",
        "outputId": "12b58029-ae45-488a-9ff9-c985a8b48f06"
      },
      "execution_count": null,
      "outputs": [
        {
          "output_type": "stream",
          "name": "stdout",
          "text": [
            "Epoch 1/100\n",
            "11/11 [==============================] - 1s 22ms/step - loss: 568.1985 - val_loss: 494.5150\n",
            "Epoch 2/100\n",
            "11/11 [==============================] - 0s 6ms/step - loss: 523.8282 - val_loss: 450.3179\n",
            "Epoch 3/100\n",
            "11/11 [==============================] - 0s 7ms/step - loss: 468.6803 - val_loss: 394.2553\n",
            "Epoch 4/100\n",
            "11/11 [==============================] - 0s 5ms/step - loss: 402.2424 - val_loss: 325.8188\n",
            "Epoch 5/100\n",
            "11/11 [==============================] - 0s 6ms/step - loss: 321.4474 - val_loss: 247.8930\n",
            "Epoch 6/100\n",
            "11/11 [==============================] - 0s 6ms/step - loss: 231.9990 - val_loss: 168.7599\n",
            "Epoch 7/100\n",
            "11/11 [==============================] - 0s 5ms/step - loss: 151.8884 - val_loss: 107.5323\n",
            "Epoch 8/100\n",
            "11/11 [==============================] - 0s 5ms/step - loss: 98.4332 - val_loss: 70.4418\n",
            "Epoch 9/100\n",
            "11/11 [==============================] - 0s 6ms/step - loss: 70.2906 - val_loss: 51.7003\n",
            "Epoch 10/100\n",
            "11/11 [==============================] - 0s 5ms/step - loss: 53.7880 - val_loss: 40.8977\n",
            "Epoch 11/100\n",
            "11/11 [==============================] - 0s 5ms/step - loss: 41.8000 - val_loss: 33.5192\n",
            "Epoch 12/100\n",
            "11/11 [==============================] - 0s 6ms/step - loss: 33.7960 - val_loss: 30.2014\n",
            "Epoch 13/100\n",
            "11/11 [==============================] - 0s 6ms/step - loss: 29.5070 - val_loss: 28.9859\n",
            "Epoch 14/100\n",
            "11/11 [==============================] - 0s 6ms/step - loss: 26.6560 - val_loss: 28.2691\n",
            "Epoch 15/100\n",
            "11/11 [==============================] - 0s 7ms/step - loss: 24.8237 - val_loss: 28.1395\n",
            "Epoch 16/100\n",
            "11/11 [==============================] - 0s 5ms/step - loss: 23.6521 - val_loss: 28.1427\n",
            "Epoch 17/100\n",
            "11/11 [==============================] - 0s 5ms/step - loss: 22.7356 - val_loss: 27.2459\n",
            "Epoch 18/100\n",
            "11/11 [==============================] - 0s 6ms/step - loss: 21.7091 - val_loss: 26.6781\n",
            "Epoch 19/100\n",
            "11/11 [==============================] - 0s 5ms/step - loss: 21.4708 - val_loss: 27.6645\n",
            "Epoch 20/100\n",
            "11/11 [==============================] - 0s 4ms/step - loss: 20.9791 - val_loss: 27.1806\n",
            "Epoch 21/100\n",
            "11/11 [==============================] - 0s 6ms/step - loss: 20.1407 - val_loss: 26.2333\n",
            "Epoch 22/100\n",
            "11/11 [==============================] - 0s 6ms/step - loss: 19.5208 - val_loss: 25.5138\n",
            "Epoch 23/100\n",
            "11/11 [==============================] - 0s 5ms/step - loss: 18.9165 - val_loss: 24.9807\n",
            "Epoch 24/100\n",
            "11/11 [==============================] - 0s 6ms/step - loss: 18.3609 - val_loss: 24.2879\n",
            "Epoch 25/100\n",
            "11/11 [==============================] - 0s 4ms/step - loss: 17.8535 - val_loss: 23.6428\n",
            "Epoch 26/100\n",
            "11/11 [==============================] - 0s 6ms/step - loss: 17.5009 - val_loss: 23.0390\n",
            "Epoch 27/100\n",
            "11/11 [==============================] - 0s 5ms/step - loss: 17.0140 - val_loss: 22.8075\n",
            "Epoch 28/100\n",
            "11/11 [==============================] - 0s 5ms/step - loss: 16.6242 - val_loss: 22.5264\n",
            "Epoch 29/100\n",
            "11/11 [==============================] - 0s 6ms/step - loss: 16.2869 - val_loss: 22.1321\n",
            "Epoch 30/100\n",
            "11/11 [==============================] - 0s 5ms/step - loss: 16.0045 - val_loss: 21.4086\n",
            "Epoch 31/100\n",
            "11/11 [==============================] - 0s 5ms/step - loss: 15.7513 - val_loss: 20.7880\n",
            "Epoch 32/100\n",
            "11/11 [==============================] - 0s 5ms/step - loss: 15.3536 - val_loss: 20.8847\n",
            "Epoch 33/100\n",
            "11/11 [==============================] - 0s 6ms/step - loss: 14.9787 - val_loss: 20.7023\n",
            "Epoch 34/100\n",
            "11/11 [==============================] - 0s 6ms/step - loss: 14.7108 - val_loss: 20.4037\n",
            "Epoch 35/100\n",
            "11/11 [==============================] - 0s 5ms/step - loss: 14.4320 - val_loss: 19.3558\n",
            "Epoch 36/100\n",
            "11/11 [==============================] - 0s 4ms/step - loss: 14.7185 - val_loss: 18.9948\n",
            "Epoch 37/100\n",
            "11/11 [==============================] - 0s 6ms/step - loss: 14.8547 - val_loss: 18.1603\n",
            "Epoch 38/100\n",
            "11/11 [==============================] - 0s 5ms/step - loss: 14.1926 - val_loss: 18.0295\n",
            "Epoch 39/100\n",
            "11/11 [==============================] - 0s 6ms/step - loss: 13.7120 - val_loss: 18.1695\n",
            "Epoch 40/100\n",
            "11/11 [==============================] - 0s 9ms/step - loss: 13.5716 - val_loss: 18.5296\n",
            "Epoch 41/100\n",
            "11/11 [==============================] - 0s 8ms/step - loss: 13.4319 - val_loss: 18.2360\n",
            "Epoch 42/100\n",
            "11/11 [==============================] - 0s 8ms/step - loss: 13.1766 - val_loss: 17.8878\n",
            "Epoch 43/100\n",
            "11/11 [==============================] - 0s 7ms/step - loss: 13.0014 - val_loss: 18.2940\n",
            "Epoch 44/100\n",
            "11/11 [==============================] - 0s 9ms/step - loss: 12.8784 - val_loss: 18.4778\n",
            "Epoch 45/100\n",
            "11/11 [==============================] - 0s 7ms/step - loss: 12.7100 - val_loss: 18.3013\n",
            "Epoch 46/100\n",
            "11/11 [==============================] - 0s 8ms/step - loss: 12.5514 - val_loss: 18.0333\n",
            "Epoch 47/100\n",
            "11/11 [==============================] - 0s 8ms/step - loss: 12.4345 - val_loss: 17.4846\n",
            "Epoch 48/100\n",
            "11/11 [==============================] - 0s 7ms/step - loss: 12.3566 - val_loss: 17.4731\n",
            "Epoch 49/100\n",
            "11/11 [==============================] - 0s 7ms/step - loss: 12.1883 - val_loss: 17.0904\n",
            "Epoch 50/100\n",
            "11/11 [==============================] - 0s 8ms/step - loss: 12.1585 - val_loss: 17.2350\n",
            "Epoch 51/100\n",
            "11/11 [==============================] - 0s 8ms/step - loss: 12.0435 - val_loss: 17.4482\n",
            "Epoch 52/100\n",
            "11/11 [==============================] - 0s 7ms/step - loss: 11.9026 - val_loss: 17.3457\n",
            "Epoch 53/100\n",
            "11/11 [==============================] - 0s 7ms/step - loss: 11.8536 - val_loss: 17.7695\n",
            "Epoch 54/100\n",
            "11/11 [==============================] - 0s 6ms/step - loss: 11.8988 - val_loss: 17.4030\n",
            "Epoch 55/100\n",
            "11/11 [==============================] - 0s 6ms/step - loss: 11.7188 - val_loss: 17.0078\n",
            "Epoch 56/100\n",
            "11/11 [==============================] - 0s 6ms/step - loss: 11.6042 - val_loss: 16.7753\n",
            "Epoch 57/100\n",
            "11/11 [==============================] - 0s 7ms/step - loss: 11.5150 - val_loss: 16.5932\n",
            "Epoch 58/100\n",
            "11/11 [==============================] - 0s 7ms/step - loss: 11.4601 - val_loss: 16.5046\n",
            "Epoch 59/100\n",
            "11/11 [==============================] - 0s 8ms/step - loss: 11.3076 - val_loss: 16.4673\n",
            "Epoch 60/100\n",
            "11/11 [==============================] - 0s 8ms/step - loss: 11.2930 - val_loss: 16.3241\n",
            "Epoch 61/100\n",
            "11/11 [==============================] - 0s 7ms/step - loss: 11.1427 - val_loss: 16.5520\n",
            "Epoch 62/100\n",
            "11/11 [==============================] - 0s 7ms/step - loss: 11.1026 - val_loss: 16.4457\n",
            "Epoch 63/100\n",
            "11/11 [==============================] - 0s 8ms/step - loss: 11.1208 - val_loss: 16.8322\n",
            "Epoch 64/100\n",
            "11/11 [==============================] - 0s 9ms/step - loss: 11.0504 - val_loss: 15.7802\n",
            "Epoch 65/100\n",
            "11/11 [==============================] - 0s 8ms/step - loss: 10.8758 - val_loss: 15.5129\n",
            "Epoch 66/100\n",
            "11/11 [==============================] - 0s 8ms/step - loss: 10.9356 - val_loss: 15.4865\n",
            "Epoch 67/100\n",
            "11/11 [==============================] - 0s 9ms/step - loss: 10.7271 - val_loss: 15.5604\n",
            "Epoch 68/100\n",
            "11/11 [==============================] - 0s 8ms/step - loss: 10.6892 - val_loss: 15.8098\n",
            "Epoch 69/100\n",
            "11/11 [==============================] - 0s 8ms/step - loss: 10.6570 - val_loss: 15.2932\n",
            "Epoch 70/100\n",
            "11/11 [==============================] - 0s 8ms/step - loss: 10.4618 - val_loss: 15.5847\n",
            "Epoch 71/100\n",
            "11/11 [==============================] - 0s 6ms/step - loss: 10.4009 - val_loss: 16.2519\n",
            "Epoch 72/100\n",
            "11/11 [==============================] - 0s 8ms/step - loss: 10.3366 - val_loss: 16.1745\n",
            "Epoch 73/100\n",
            "11/11 [==============================] - 0s 6ms/step - loss: 10.2902 - val_loss: 15.5775\n",
            "Epoch 74/100\n",
            "11/11 [==============================] - 0s 5ms/step - loss: 10.1780 - val_loss: 15.3207\n",
            "Epoch 75/100\n",
            "11/11 [==============================] - 0s 6ms/step - loss: 10.0937 - val_loss: 15.3897\n",
            "Epoch 76/100\n",
            "11/11 [==============================] - 0s 5ms/step - loss: 10.0830 - val_loss: 15.5100\n",
            "Epoch 77/100\n",
            "11/11 [==============================] - 0s 5ms/step - loss: 10.0154 - val_loss: 15.6938\n",
            "Epoch 78/100\n",
            "11/11 [==============================] - 0s 5ms/step - loss: 9.9664 - val_loss: 15.3126\n",
            "Epoch 79/100\n",
            "11/11 [==============================] - 0s 6ms/step - loss: 9.9433 - val_loss: 16.0076\n",
            "Epoch 80/100\n",
            "11/11 [==============================] - 0s 6ms/step - loss: 9.8983 - val_loss: 15.6824\n",
            "Epoch 81/100\n",
            "11/11 [==============================] - 0s 9ms/step - loss: 9.8141 - val_loss: 15.5212\n",
            "Epoch 82/100\n",
            "11/11 [==============================] - 0s 7ms/step - loss: 9.8393 - val_loss: 14.7158\n",
            "Epoch 83/100\n",
            "11/11 [==============================] - 0s 10ms/step - loss: 9.7556 - val_loss: 14.9422\n",
            "Epoch 84/100\n",
            "11/11 [==============================] - 0s 8ms/step - loss: 9.5717 - val_loss: 14.9226\n",
            "Epoch 85/100\n",
            "11/11 [==============================] - 0s 7ms/step - loss: 9.4771 - val_loss: 14.6237\n",
            "Epoch 86/100\n",
            "11/11 [==============================] - 0s 5ms/step - loss: 9.4716 - val_loss: 14.8499\n",
            "Epoch 87/100\n",
            "11/11 [==============================] - 0s 5ms/step - loss: 9.3927 - val_loss: 15.0800\n",
            "Epoch 88/100\n",
            "11/11 [==============================] - 0s 4ms/step - loss: 9.3568 - val_loss: 15.1499\n",
            "Epoch 89/100\n",
            "11/11 [==============================] - 0s 6ms/step - loss: 9.2789 - val_loss: 14.9267\n",
            "Epoch 90/100\n",
            "11/11 [==============================] - 0s 5ms/step - loss: 9.2320 - val_loss: 14.6330\n",
            "Epoch 91/100\n",
            "11/11 [==============================] - 0s 5ms/step - loss: 9.2510 - val_loss: 14.6244\n",
            "Epoch 92/100\n",
            "11/11 [==============================] - 0s 7ms/step - loss: 9.0968 - val_loss: 14.6658\n",
            "Epoch 93/100\n",
            "11/11 [==============================] - 0s 5ms/step - loss: 9.0776 - val_loss: 14.9886\n",
            "Epoch 94/100\n",
            "11/11 [==============================] - 0s 5ms/step - loss: 9.0297 - val_loss: 14.9901\n",
            "Epoch 95/100\n",
            "11/11 [==============================] - 0s 6ms/step - loss: 9.0090 - val_loss: 14.9281\n",
            "Epoch 96/100\n",
            "11/11 [==============================] - 0s 5ms/step - loss: 8.9563 - val_loss: 14.6770\n",
            "Epoch 97/100\n",
            "11/11 [==============================] - 0s 6ms/step - loss: 8.8659 - val_loss: 14.5630\n",
            "Epoch 98/100\n",
            "11/11 [==============================] - 0s 5ms/step - loss: 8.7403 - val_loss: 14.5655\n",
            "Epoch 99/100\n",
            "11/11 [==============================] - 0s 4ms/step - loss: 8.7230 - val_loss: 14.6610\n",
            "Epoch 100/100\n",
            "11/11 [==============================] - 0s 6ms/step - loss: 8.7279 - val_loss: 14.1914\n"
          ]
        }
      ]
    },
    {
      "cell_type": "code",
      "source": [
        "# Step 7: Evaluate the model\n",
        "loss = model.evaluate(X_test, y_test)\n",
        "print(\"Test Loss:\", loss)"
      ],
      "metadata": {
        "colab": {
          "base_uri": "https://localhost:8080/"
        },
        "id": "bCBmFTvJyLTf",
        "outputId": "17de04a3-aefd-4969-cb15-a3f803798fcc"
      },
      "execution_count": null,
      "outputs": [
        {
          "output_type": "stream",
          "name": "stdout",
          "text": [
            "4/4 [==============================] - 0s 3ms/step - loss: 12.3575\n",
            "Test Loss: 12.35751724243164\n"
          ]
        }
      ]
    },
    {
      "cell_type": "code",
      "source": [
        "# Example usage: Making predictions\n",
        "import numpy as np\n",
        "\n",
        "# Select a sample from the test data\n",
        "sample_index = 2\n",
        "sample = X_test[sample_index]  # Selecting the first sample\n",
        "\n",
        "# Reshape the sample to match the input shape of the model\n",
        "sample = np.reshape(sample, (1, -1))\n",
        "\n",
        "# Predict the housing price for the sample\n",
        "predicted_price = model.predict(sample)\n",
        "\n",
        "print(\"Predicted price:\", predicted_price[0][0])\n",
        "print(\"Actual price:\", y_test.iloc[sample_index])  # Ground truth\n"
      ],
      "metadata": {
        "colab": {
          "base_uri": "https://localhost:8080/"
        },
        "id": "dyCILgkCyOTa",
        "outputId": "fd3c9768-5eb0-454c-cd14-eb80461bde60"
      },
      "execution_count": null,
      "outputs": [
        {
          "output_type": "stream",
          "name": "stdout",
          "text": [
            "1/1 [==============================] - 0s 98ms/step\n",
            "Predicted price: 19.059315\n",
            "Actual price: 13.6\n"
          ]
        }
      ]
    },
    {
      "cell_type": "code",
      "source": [],
      "metadata": {
        "id": "XJr3s9NJIGn2"
      },
      "execution_count": null,
      "outputs": []
    }
  ]
}