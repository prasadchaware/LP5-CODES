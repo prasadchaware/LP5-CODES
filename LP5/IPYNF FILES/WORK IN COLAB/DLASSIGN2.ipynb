{
  "nbformat": 4,
  "nbformat_minor": 0,
  "metadata": {
    "colab": {
      "provenance": []
    },
    "kernelspec": {
      "name": "python3",
      "display_name": "Python 3"
    },
    "language_info": {
      "name": "python"
    }
  },
  "cells": [
    {
      "cell_type": "code",
      "execution_count": null,
      "metadata": {
        "id": "40mT-2uuy93E"
      },
      "outputs": [],
      "source": [
        "import tensorflow as tf\n",
        "from tensorflow import keras\n"
      ]
    },
    {
      "cell_type": "code",
      "source": [
        "imdb = keras.datasets.imdb\n",
        "(train_data, train_labels), (test_data, test_labels) = imdb.load_data(num_words=10000)\n"
      ],
      "metadata": {
        "colab": {
          "base_uri": "https://localhost:8080/"
        },
        "id": "lYOzeTyMzECa",
        "outputId": "e0138036-0396-461d-cf84-640c86897a71"
      },
      "execution_count": null,
      "outputs": [
        {
          "output_type": "stream",
          "name": "stdout",
          "text": [
            "Downloading data from https://storage.googleapis.com/tensorflow/tf-keras-datasets/imdb.npz\n",
            "17464789/17464789 [==============================] - 0s 0us/step\n"
          ]
        }
      ]
    },
    {
      "cell_type": "code",
      "source": [
        "word_index = imdb.get_word_index()\n",
        "\n",
        "word_index = {k:(v+3) for k,v in word_index.items()}\n",
        "word_index[\"<PAD>\"] = 0\n",
        "word_index[\"<START>\"] = 1\n",
        "word_index[\"<UNK>\"] = 2\n",
        "word_index[\"<UNUSED>\"] = 3\n",
        "\n",
        "reverse_word_index = dict([(value, key) for (key, value) in word_index.items()])\n",
        "\n",
        "train_data = keras.preprocessing.sequence.pad_sequences(train_data,\n",
        "                                                        value=word_index[\"<PAD>\"],\n",
        "                                                        padding='post',\n",
        "                                                        maxlen=256)\n",
        "\n",
        "test_data = keras.preprocessing.sequence.pad_sequences(test_data,\n",
        "                                                       value=word_index[\"<PAD>\"],\n",
        "                                                       padding='post',\n",
        "                                                       maxlen=256)\n"
      ],
      "metadata": {
        "colab": {
          "base_uri": "https://localhost:8080/"
        },
        "id": "-sd9_ii7zFoT",
        "outputId": "e1b82bf4-6ef4-40a2-a133-37403429d75a"
      },
      "execution_count": null,
      "outputs": [
        {
          "output_type": "stream",
          "name": "stdout",
          "text": [
            "Downloading data from https://storage.googleapis.com/tensorflow/tf-keras-datasets/imdb_word_index.json\n",
            "1641221/1641221 [==============================] - 0s 0us/step\n"
          ]
        }
      ]
    },
    {
      "cell_type": "code",
      "source": [
        "model = keras.Sequential([\n",
        "    keras.layers.Embedding(10000, 16),\n",
        "    keras.layers.GlobalAveragePooling1D(),\n",
        "    keras.layers.Dense(16, activation='relu'),\n",
        "    keras.layers.Dense(1, activation='sigmoid')\n",
        "])\n",
        "\n",
        "model.summary()\n"
      ],
      "metadata": {
        "colab": {
          "base_uri": "https://localhost:8080/"
        },
        "id": "moqBCYa_zHwZ",
        "outputId": "29cc8167-59c1-4bdf-f2a1-1185c297aa6f"
      },
      "execution_count": null,
      "outputs": [
        {
          "output_type": "stream",
          "name": "stdout",
          "text": [
            "Model: \"sequential\"\n",
            "_________________________________________________________________\n",
            " Layer (type)                Output Shape              Param #   \n",
            "=================================================================\n",
            " embedding (Embedding)       (None, None, 16)          160000    \n",
            "                                                                 \n",
            " global_average_pooling1d (  (None, 16)                0         \n",
            " GlobalAveragePooling1D)                                         \n",
            "                                                                 \n",
            " dense (Dense)               (None, 16)                272       \n",
            "                                                                 \n",
            " dense_1 (Dense)             (None, 1)                 17        \n",
            "                                                                 \n",
            "=================================================================\n",
            "Total params: 160289 (626.13 KB)\n",
            "Trainable params: 160289 (626.13 KB)\n",
            "Non-trainable params: 0 (0.00 Byte)\n",
            "_________________________________________________________________\n"
          ]
        }
      ]
    },
    {
      "cell_type": "code",
      "source": [
        "model.compile(optimizer='adam',\n",
        "              loss='binary_crossentropy',\n",
        "              metrics=['accuracy'])\n"
      ],
      "metadata": {
        "id": "Uoi0Ji1szJS1"
      },
      "execution_count": null,
      "outputs": []
    },
    {
      "cell_type": "code",
      "source": [
        "history = model.fit(train_data,\n",
        "                    train_labels,\n",
        "                    epochs=10,\n",
        "                    batch_size=512,\n",
        "                    validation_data=(test_data, test_labels),\n",
        "                    verbose=1)\n"
      ],
      "metadata": {
        "colab": {
          "base_uri": "https://localhost:8080/"
        },
        "id": "fuxHc9xNzKsq",
        "outputId": "fd1dd751-0e39-4c45-84a3-c198d73324e0"
      },
      "execution_count": null,
      "outputs": [
        {
          "output_type": "stream",
          "name": "stdout",
          "text": [
            "Epoch 1/10\n",
            "49/49 [==============================] - 3s 33ms/step - loss: 0.6907 - accuracy: 0.6424 - val_loss: 0.6859 - val_accuracy: 0.6967\n",
            "Epoch 2/10\n",
            "49/49 [==============================] - 1s 29ms/step - loss: 0.6732 - accuracy: 0.7411 - val_loss: 0.6572 - val_accuracy: 0.7418\n",
            "Epoch 3/10\n",
            "49/49 [==============================] - 1s 25ms/step - loss: 0.6270 - accuracy: 0.7789 - val_loss: 0.5994 - val_accuracy: 0.7868\n",
            "Epoch 4/10\n",
            "49/49 [==============================] - 1s 28ms/step - loss: 0.5546 - accuracy: 0.8130 - val_loss: 0.5268 - val_accuracy: 0.8152\n",
            "Epoch 5/10\n",
            "49/49 [==============================] - 2s 36ms/step - loss: 0.4762 - accuracy: 0.8423 - val_loss: 0.4602 - val_accuracy: 0.8369\n",
            "Epoch 6/10\n",
            "49/49 [==============================] - 2s 46ms/step - loss: 0.4094 - accuracy: 0.8634 - val_loss: 0.4082 - val_accuracy: 0.8497\n",
            "Epoch 7/10\n",
            "49/49 [==============================] - 1s 25ms/step - loss: 0.3590 - accuracy: 0.8773 - val_loss: 0.3725 - val_accuracy: 0.8582\n",
            "Epoch 8/10\n",
            "49/49 [==============================] - 1s 30ms/step - loss: 0.3222 - accuracy: 0.8878 - val_loss: 0.3482 - val_accuracy: 0.8628\n",
            "Epoch 9/10\n",
            "49/49 [==============================] - 1s 26ms/step - loss: 0.2945 - accuracy: 0.8951 - val_loss: 0.3319 - val_accuracy: 0.8673\n",
            "Epoch 10/10\n",
            "49/49 [==============================] - 1s 30ms/step - loss: 0.2733 - accuracy: 0.9014 - val_loss: 0.3208 - val_accuracy: 0.8689\n"
          ]
        }
      ]
    },
    {
      "cell_type": "code",
      "source": [
        "test_loss, test_acc = model.evaluate(test_data, test_labels)\n",
        "\n",
        "print('Test accuracy:', test_acc)\n"
      ],
      "metadata": {
        "colab": {
          "base_uri": "https://localhost:8080/"
        },
        "id": "gPj_O3pxzMD5",
        "outputId": "00b6242a-1239-425b-8311-1007823686ac"
      },
      "execution_count": null,
      "outputs": [
        {
          "output_type": "stream",
          "name": "stdout",
          "text": [
            "782/782 [==============================] - 2s 2ms/step - loss: 0.3208 - accuracy: 0.8689\n",
            "Test accuracy: 0.8689200282096863\n"
          ]
        }
      ]
    },
    {
      "cell_type": "code",
      "source": [
        "# Function to preprocess the user-entered review\n",
        "def preprocess_review(review):\n",
        "    review = review.lower()\n",
        "    review = review.split()\n",
        "    review = [word_index[word] if word in word_index and word_index[word] < 10000 else 2 for word in review]\n",
        "    review = keras.preprocessing.sequence.pad_sequences([review],\n",
        "                                                         value=word_index[\"<PAD>\"],\n",
        "                                                         padding='post',\n",
        "                                                         maxlen=256)\n",
        "    return review\n",
        "\n",
        "# User enters a review\n",
        "user_review = input(\"Enter a movie review: \")\n",
        "\n",
        "# Preprocess the user-entered review\n",
        "preprocessed_review = preprocess_review(user_review)\n",
        "\n",
        "# Predict the class label for the review\n",
        "prediction = model.predict(preprocessed_review)\n",
        "\n",
        "# Print the predicted class label\n",
        "if prediction[0][0] >= 0.5:\n",
        "    print(\"Predicted class: Positive\")\n",
        "else:\n",
        "    print(\"Predicted class: Negative\")\n"
      ],
      "metadata": {
        "colab": {
          "base_uri": "https://localhost:8080/"
        },
        "id": "a_VPRhCRzdCZ",
        "outputId": "16507455-64cc-4123-e263-958e95045132"
      },
      "execution_count": null,
      "outputs": [
        {
          "output_type": "stream",
          "name": "stdout",
          "text": [
            "Enter a movie review: PATHAAN IS REALLY NICE MOVIE. ITS WONDERFUL\n",
            "1/1 [==============================] - 0s 22ms/step\n",
            "Predicted class: Positive\n"
          ]
        }
      ]
    },
    {
      "cell_type": "code",
      "source": [],
      "metadata": {
        "id": "Bb4OYE0lIt7D"
      },
      "execution_count": null,
      "outputs": []
    }
  ]
}